{
 "cells": [
  {
   "cell_type": "code",
   "execution_count": null,
   "metadata": {
    "colab": {
     "base_uri": "https://localhost:8080/"
    },
    "executionInfo": {
     "elapsed": 7464,
     "status": "ok",
     "timestamp": 1704785102957,
     "user": {
      "displayName": "Vitali Alexeev",
      "userId": "09132016495193033124"
     },
     "user_tz": -660
    },
    "id": "8H9nNamkECUx",
    "outputId": "d9ede76b-fde8-44a6-bae5-a77d3d9b0eff"
   },
   "outputs": [],
   "source": [
    "!pip install pyspellchecker"
   ]
  },
  {
   "cell_type": "code",
   "execution_count": 3,
   "metadata": {
    "colab": {
     "base_uri": "https://localhost:8080/"
    },
    "executionInfo": {
     "elapsed": 7464,
     "status": "ok",
     "timestamp": 1704785102957,
     "user": {
      "displayName": "Vitali Alexeev",
      "userId": "09132016495193033124"
     },
     "user_tz": -660
    },
    "id": "8H9nNamkECUx",
    "outputId": "d9ede76b-fde8-44a6-bae5-a77d3d9b0eff"
   },
   "outputs": [
    {
     "name": "stderr",
     "output_type": "stream",
     "text": [
      "[nltk_data] Downloading package punkt to\n",
      "[nltk_data]     C:\\Users\\Vitali\\AppData\\Roaming\\nltk_data...\n",
      "[nltk_data]   Package punkt is already up-to-date!\n",
      "[nltk_data] Downloading package stopwords to\n",
      "[nltk_data]     C:\\Users\\Vitali\\AppData\\Roaming\\nltk_data...\n",
      "[nltk_data]   Package stopwords is already up-to-date!\n"
     ]
    },
    {
     "data": {
      "text/plain": [
       "True"
      ]
     },
     "execution_count": 3,
     "metadata": {},
     "output_type": "execute_result"
    }
   ],
   "source": [
    "import re\n",
    "import nltk\n",
    "from spellchecker import SpellChecker\n",
    "from nltk.corpus import stopwords\n",
    "from nltk.tokenize import word_tokenize\n",
    "\n",
    "# Download the set of stop words if you haven't already\n",
    "nltk.download('punkt')\n",
    "nltk.download('stopwords')"
   ]
  },
  {
   "cell_type": "code",
   "execution_count": 5,
   "metadata": {
    "colab": {
     "base_uri": "https://localhost:8080/"
    },
    "executionInfo": {
     "elapsed": 7464,
     "status": "ok",
     "timestamp": 1704785102957,
     "user": {
      "displayName": "Vitali Alexeev",
      "userId": "09132016495193033124"
     },
     "user_tz": -660
    },
    "id": "8H9nNamkECUx",
    "outputId": "d9ede76b-fde8-44a6-bae5-a77d3d9b0eff"
   },
   "outputs": [
    {
     "name": "stdout",
     "output_type": "stream",
     "text": [
      "Original Text: <html>This is a test! Data sciense is 100% fun, visit www.example.com :)</html>\n",
      "Preprocessed Text: This test Data science fun visit\n"
     ]
    }
   ],
   "source": [
    "# Sample text with HTML tags, numbers, punctuation, and a misspelled word\n",
    "text = \"<html>This is a test! Data sciense is 100% fun, visit www.example.com :)</html>\"\n",
    "\n",
    "# Function for text preprocessing\n",
    "def preprocess_text(text):\n",
    "    # Removing HTML tags\n",
    "    text = re.sub(r'<.*?>', '', text)\n",
    "\n",
    "    # Removing URLs\n",
    "    text = re.sub(r'http\\S+|www\\S+|https\\S+', '', text, flags=re.MULTILINE)\n",
    "\n",
    "    # Removing punctuation\n",
    "    text = re.sub(r'[^\\w\\s]', '', text)\n",
    "\n",
    "    # Removing numbers\n",
    "    text = re.sub(r'\\d+', '', text)\n",
    "\n",
    "    # Tokenization\n",
    "    tokens = word_tokenize(text)\n",
    "\n",
    "    # Removing stopwords\n",
    "    stop_words = set(stopwords.words('english'))\n",
    "    filtered_tokens = [word for word in tokens if word not in stop_words]\n",
    "\n",
    "    # Removing whitespaces\n",
    "    filtered_text = \" \".join(filtered_tokens)\n",
    "\n",
    "    # Spell Correction\n",
    "    spell = SpellChecker()\n",
    "    corrected_text = \" \".join([spell.correction(word) for word in filtered_text.split()])\n",
    "\n",
    "    return corrected_text\n",
    "\n",
    "# Applying the preprocessing function\n",
    "preprocessed_text = preprocess_text(text)\n",
    "print(\"Original Text:\", text)\n",
    "print(\"Preprocessed Text:\", preprocessed_text)"
   ]
  },
  {
   "cell_type": "code",
   "execution_count": null,
   "metadata": {
    "id": "zUhEB0eLEqh-"
   },
   "outputs": [],
   "source": []
  }
 ],
 "metadata": {
  "colab": {
   "authorship_tag": "ABX9TyMszoxSJEzxDKeO485mhopS",
   "provenance": []
  },
  "kernelspec": {
   "display_name": "Python 3 (ipykernel)",
   "language": "python",
   "name": "python3"
  },
  "language_info": {
   "codemirror_mode": {
    "name": "ipython",
    "version": 3
   },
   "file_extension": ".py",
   "mimetype": "text/x-python",
   "name": "python",
   "nbconvert_exporter": "python",
   "pygments_lexer": "ipython3",
   "version": "3.12.4"
  }
 },
 "nbformat": 4,
 "nbformat_minor": 4
}
