{
 "cells": [
  {
   "cell_type": "markdown",
   "id": "3bdaf41a-aed3-4216-907a-bbe4c3584e55",
   "metadata": {},
   "source": [
    "# Case Folding"
   ]
  },
  {
   "cell_type": "markdown",
   "id": "a5bbc906-ac9e-49ad-9cf6-9a5dc897bb0c",
   "metadata": {},
   "source": [
    "# Using Python's `.lower()` Method"
   ]
  },
  {
   "cell_type": "code",
   "execution_count": 1,
   "id": "844eded3-f62b-4e1e-98e1-eea5aecf4c19",
   "metadata": {},
   "outputs": [
    {
     "name": "stdout",
     "output_type": "stream",
     "text": [
      "the stock market is rising, and investors are excited!\n"
     ]
    }
   ],
   "source": [
    "text = \"The Stock Market is Rising, and Investors Are Excited!\"\n",
    "lower_text = text.lower()\n",
    "\n",
    "print(lower_text)\n",
    "# Output: \"the stock market is rising, and investors are excited!\"\n"
   ]
  },
  {
   "cell_type": "markdown",
   "id": "2cca34e1-9b9b-4156-9491-e3c416f0697c",
   "metadata": {},
   "source": [
    "# Stop-word Removal"
   ]
  },
  {
   "cell_type": "markdown",
   "id": "c012201e-cd55-4017-9961-6a76d77e1153",
   "metadata": {},
   "source": [
    "## Using NLTK"
   ]
  },
  {
   "cell_type": "code",
   "execution_count": 3,
   "id": "98fd742e-417d-4215-a12f-8c039db44210",
   "metadata": {},
   "outputs": [
    {
     "name": "stderr",
     "output_type": "stream",
     "text": [
      "[nltk_data] Downloading package stopwords to\n",
      "[nltk_data]     C:\\Users\\Vitali\\AppData\\Roaming\\nltk_data...\n",
      "[nltk_data]   Unzipping corpora\\stopwords.zip.\n",
      "[nltk_data] Downloading package punkt to\n",
      "[nltk_data]     C:\\Users\\Vitali\\AppData\\Roaming\\nltk_data...\n",
      "[nltk_data]   Package punkt is already up-to-date!\n"
     ]
    },
    {
     "data": {
      "text/plain": [
       "True"
      ]
     },
     "execution_count": 3,
     "metadata": {},
     "output_type": "execute_result"
    }
   ],
   "source": [
    "import nltk\n",
    "from nltk.corpus import stopwords\n",
    "from nltk.tokenize import word_tokenize\n",
    "\n",
    "nltk.download('stopwords')\n",
    "nltk.download('punkt')"
   ]
  },
  {
   "cell_type": "code",
   "execution_count": 5,
   "id": "c2f63877-90b7-42ba-97c8-9d112aea4480",
   "metadata": {},
   "outputs": [
    {
     "name": "stdout",
     "output_type": "stream",
     "text": [
      "['stock', 'market', 'going', 'significantly', 'recent', 'days', '.']\n"
     ]
    }
   ],
   "source": [
    "text = \"The stock market is going up significantly in recent days.\"\n",
    "\n",
    "# Tokenization\n",
    "tokens = word_tokenize(text)\n",
    "\n",
    "# Remove stop words\n",
    "filtered_words = [word for word in tokens if word.lower() not in stopwords.words('english')]\n",
    "\n",
    "print(filtered_words)\n",
    "# Output: ['Stock', 'market', 'going', 'significantly', 'recent', 'days']"
   ]
  },
  {
   "cell_type": "markdown",
   "id": "83f4b9c2-70dd-443e-9104-ebf288ade3d5",
   "metadata": {},
   "source": [
    "## Using SpaCy"
   ]
  },
  {
   "cell_type": "code",
   "execution_count": null,
   "id": "1af30a17-a35b-4f7f-a643-0efbbe9332bd",
   "metadata": {},
   "outputs": [],
   "source": [
    "!python -m spacy download en_core_web_sm"
   ]
  },
  {
   "cell_type": "code",
   "execution_count": 8,
   "id": "373203d6-fb71-4b72-9bc6-ed189127ec28",
   "metadata": {},
   "outputs": [],
   "source": [
    "import spacy"
   ]
  },
  {
   "cell_type": "code",
   "execution_count": 10,
   "id": "7203a699-9579-4642-8fab-1d0a38343335",
   "metadata": {},
   "outputs": [
    {
     "name": "stderr",
     "output_type": "stream",
     "text": [
      "C:\\Users\\Vitali\\anaconda3\\Lib\\site-packages\\spacy\\util.py:910: UserWarning: [W095] Model 'en_core_web_sm' (3.8.0) was trained with spaCy v3.8.0 and may not be 100% compatible with the current version (3.7.2). If you see errors or degraded performance, download a newer compatible model or retrain your custom model with the current spaCy version. For more details and available updates, run: python -m spacy validate\n",
      "  warnings.warn(warn_msg)\n"
     ]
    },
    {
     "name": "stdout",
     "output_type": "stream",
     "text": [
      "['stock', 'market', 'going', 'significantly', 'recent', 'days', '.']\n"
     ]
    }
   ],
   "source": [
    "nlp = spacy.load(\"en_core_web_sm\")\n",
    "doc = nlp(\"The stock market is going up significantly in recent days.\")\n",
    "\n",
    "# Remove stop words\n",
    "filtered_words = [token.text for token in doc if not token.is_stop]\n",
    "\n",
    "print(filtered_words)\n",
    "# Output: ['Stock', 'market', 'going', 'significantly', 'recent', 'days']"
   ]
  },
  {
   "cell_type": "markdown",
   "id": "be940552-7b5e-4591-a05c-aae80a5d54ef",
   "metadata": {},
   "source": [
    "# Punctuation Handling"
   ]
  },
  {
   "cell_type": "markdown",
   "id": "728c4c23-3d3c-4ae1-bcae-eca4377e60a6",
   "metadata": {},
   "source": [
    "## Removing Punctuation (Using Regex)"
   ]
  },
  {
   "cell_type": "code",
   "execution_count": 14,
   "id": "312f304e-1677-408f-a937-67c18402ae90",
   "metadata": {},
   "outputs": [
    {
     "name": "stdout",
     "output_type": "stream",
     "text": [
      "Stock prices are rising Investors are excited\n"
     ]
    }
   ],
   "source": [
    "import re\n",
    "\n",
    "text = \"Stock prices are rising! Investors are excited.\"\n",
    "\n",
    "# Remove punctuation\n",
    "clean_text = re.sub(r'[^\\w\\s]', '', text)\n",
    "\n",
    "print(clean_text)\n",
    "# Output: \"Stock prices are rising Investors are excited\""
   ]
  },
  {
   "cell_type": "markdown",
   "id": "86d335dc-bb94-44df-a966-b17c1d49cd42",
   "metadata": {},
   "source": [
    "## Removing Punctuation (Using NLTK)"
   ]
  },
  {
   "cell_type": "code",
   "execution_count": 17,
   "id": "d3efa12b-22f9-4229-9a47-096eed8c2225",
   "metadata": {},
   "outputs": [
    {
     "name": "stdout",
     "output_type": "stream",
     "text": [
      "['Stock', 'prices', 'are', 'rising', 'Investors', 'are', 'excited']\n"
     ]
    }
   ],
   "source": [
    "from nltk.tokenize import word_tokenize\n",
    "import string\n",
    "\n",
    "text = \"Stock prices are rising! Investors are excited.\"\n",
    "\n",
    "# Tokenize and remove punctuation\n",
    "tokens = word_tokenize(text)\n",
    "filtered_tokens = [word for word in tokens if word not in string.punctuation]\n",
    "\n",
    "print(filtered_tokens)\n",
    "# Output: ['Stock', 'prices', 'are', 'rising', 'Investors', 'are', 'excited']"
   ]
  },
  {
   "cell_type": "markdown",
   "id": "a10bd975-118e-4cfa-8820-89eedd699074",
   "metadata": {},
   "source": [
    "## Keeping Punctuation for Sentiment Analysis"
   ]
  },
  {
   "cell_type": "code",
   "execution_count": 20,
   "id": "662385d6-ca72-4839-999a-c0fd4029e3ed",
   "metadata": {},
   "outputs": [
    {
     "name": "stdout",
     "output_type": "stream",
     "text": [
      "['This', 'is', 'amazing', '!', '!', '!']\n"
     ]
    }
   ],
   "source": [
    "text = \"This is amazing!!!\"\n",
    "\n",
    "# Keeping exclamation marks\n",
    "tokens = [word for word in word_tokenize(text) if word in string.punctuation or word.isalnum()]\n",
    "\n",
    "print(tokens)\n",
    "# Output: ['This', 'is', 'amazing', '!!!']\n"
   ]
  }
 ],
 "metadata": {
  "kernelspec": {
   "display_name": "Python 3 (ipykernel)",
   "language": "python",
   "name": "python3"
  },
  "language_info": {
   "codemirror_mode": {
    "name": "ipython",
    "version": 3
   },
   "file_extension": ".py",
   "mimetype": "text/x-python",
   "name": "python",
   "nbconvert_exporter": "python",
   "pygments_lexer": "ipython3",
   "version": "3.12.4"
  }
 },
 "nbformat": 4,
 "nbformat_minor": 5
}
