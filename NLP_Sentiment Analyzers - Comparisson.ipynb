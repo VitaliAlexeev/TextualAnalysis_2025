{
 "cells": [
  {
   "cell_type": "markdown",
   "id": "bf1d7a3d-abc0-4952-968e-31fcd32d0f28",
   "metadata": {},
   "source": [
    "# Sentiment analyzers\n",
    "\n",
    "Consider a Python example that compares different sentiment analyzers on the same **ambigous** sentence to show how they can produce varying results. \n",
    "\n",
    "The script includes:\n",
    "\n",
    "1. **NLTK VADER**: A rule-based sentiment analyzer that's specifically attuned to social media text and handles negations.\n",
    "2. **TextBlob**: A simple API that provides polarity (positive/negative) and subjectivity scores.\n",
    "3. **spaCy with spacytextblob**: An extension that brings TextBlob's functionality into spaCy's pipeline.\n",
    "4. **BERT**: A transformer-based model that provides more contextual understanding of the text.\n",
    "5. **Flair**: A powerful NLP library with state-of-the-art sentiment models.\n",
    "6. **RoBERTa**: Another transformer model with different architecture than BERT.\n"
   ]
  },
  {
   "cell_type": "markdown",
   "id": "8188ae6e-9d02-4320-a4a8-caad7b50f299",
   "metadata": {},
   "source": [
    "To run this code, you'll need to install the required packages:"
   ]
  },
  {
   "cell_type": "code",
   "execution_count": 91,
   "id": "657435d2-4c8d-4179-bbbc-81fbb5613b3f",
   "metadata": {},
   "outputs": [
    {
     "name": "stdout",
     "output_type": "stream",
     "text": [
      "Requirement already satisfied: matplotlib in c:\\users\\vitali\\anaconda3\\lib\\site-packages (3.10.1)\n",
      "Requirement already satisfied: contourpy>=1.0.1 in c:\\users\\vitali\\anaconda3\\lib\\site-packages (from matplotlib) (1.2.0)\n",
      "Requirement already satisfied: cycler>=0.10 in c:\\users\\vitali\\anaconda3\\lib\\site-packages (from matplotlib) (0.11.0)\n",
      "Requirement already satisfied: fonttools>=4.22.0 in c:\\users\\vitali\\anaconda3\\lib\\site-packages (from matplotlib) (4.51.0)\n",
      "Requirement already satisfied: kiwisolver>=1.3.1 in c:\\users\\vitali\\anaconda3\\lib\\site-packages (from matplotlib) (1.4.4)\n",
      "Requirement already satisfied: numpy>=1.23 in c:\\users\\vitali\\anaconda3\\lib\\site-packages (from matplotlib) (1.26.4)\n",
      "Requirement already satisfied: packaging>=20.0 in c:\\users\\vitali\\anaconda3\\lib\\site-packages (from matplotlib) (24.1)\n",
      "Requirement already satisfied: pillow>=8 in c:\\users\\vitali\\anaconda3\\lib\\site-packages (from matplotlib) (10.3.0)\n",
      "Requirement already satisfied: pyparsing>=2.3.1 in c:\\users\\vitali\\anaconda3\\lib\\site-packages (from matplotlib) (3.0.9)\n",
      "Requirement already satisfied: python-dateutil>=2.7 in c:\\users\\vitali\\anaconda3\\lib\\site-packages (from matplotlib) (2.9.0.post0)\n",
      "Requirement already satisfied: six>=1.5 in c:\\users\\vitali\\anaconda3\\lib\\site-packages (from python-dateutil>=2.7->matplotlib) (1.16.0)\n"
     ]
    }
   ],
   "source": [
    "#!pip install nltk textblob spacy transformers pandas matplotlib scikit-learn torch spacytextblob flair\n",
    "\n",
    "#!python -m spacy download en_core_web_sm\n",
    "#!python -m textblob.download_corpora\n",
    "\n",
    "#!pip install spacytextblob\n",
    "#!pip install flair"
   ]
  },
  {
   "cell_type": "code",
   "execution_count": 1,
   "id": "fc57c7ee-0ba1-4e3f-94d3-153c1791e58c",
   "metadata": {},
   "outputs": [],
   "source": [
    "import nltk\n",
    "from nltk.sentiment import SentimentIntensityAnalyzer\n",
    "from textblob import TextBlob\n",
    "import spacy\n",
    "from spacytextblob.spacytextblob import SpacyTextBlob\n",
    "from transformers import pipeline, AutoTokenizer, AutoModelForSequenceClassification\n",
    "import pandas as pd\n",
    "import numpy as np\n",
    "import matplotlib.pyplot as plt\n",
    "from sklearn.feature_extraction.text import CountVectorizer\n",
    "from sklearn.naive_bayes import MultinomialNB\n",
    "from sklearn.model_selection import train_test_split\n",
    "from sklearn.metrics import accuracy_score"
   ]
  },
  {
   "cell_type": "code",
   "execution_count": 27,
   "id": "47804c4c-47bc-4e14-bdf0-eb2abfa8b9a3",
   "metadata": {},
   "outputs": [
    {
     "name": "stderr",
     "output_type": "stream",
     "text": [
      "[nltk_data] Downloading package vader_lexicon to\n",
      "[nltk_data]     C:\\Users\\Vitali\\AppData\\Roaming\\nltk_data...\n",
      "[nltk_data]   Package vader_lexicon is already up-to-date!\n"
     ]
    },
    {
     "data": {
      "text/plain": [
       "True"
      ]
     },
     "execution_count": 27,
     "metadata": {},
     "output_type": "execute_result"
    }
   ],
   "source": [
    "# Download necessary NLTK data\n",
    "nltk.download('vader_lexicon')"
   ]
  },
  {
   "cell_type": "code",
   "execution_count": 3,
   "id": "0b1bc3f1-cf86-4804-befe-34610127de8c",
   "metadata": {},
   "outputs": [
    {
     "name": "stdout",
     "output_type": "stream",
     "text": [
      "Analyzing sentiment for: 'The movie was not bad, but I've seen better ones.'\n"
     ]
    }
   ],
   "source": [
    "# Example ambiguous sentence with mixed sentiment\n",
    "sentence = \"The movie was not bad, but I've seen better ones.\"\n",
    "\n",
    "print(f\"Analyzing sentiment for: '{sentence}'\")"
   ]
  },
  {
   "cell_type": "code",
   "execution_count": 5,
   "id": "09eed450-95be-48bb-98e0-3c9e41f21ea3",
   "metadata": {},
   "outputs": [],
   "source": [
    "results = {}"
   ]
  },
  {
   "cell_type": "code",
   "execution_count": 7,
   "id": "ad95cb4e-d3f5-4402-9a85-f0420c9fec7e",
   "metadata": {},
   "outputs": [],
   "source": [
    "# 1. NLTK VADER\n",
    "vader = SentimentIntensityAnalyzer()\n",
    "vader_scores = vader.polarity_scores(sentence)\n",
    "results[\"VADER\"] = {\n",
    "    \"Positive\": vader_scores[\"pos\"],\n",
    "    \"Negative\": vader_scores[\"neg\"],\n",
    "    \"Neutral\": vader_scores[\"neu\"],\n",
    "    \"Compound\": vader_scores[\"compound\"],\n",
    "    \"Interpretation\": \"Positive\" if vader_scores[\"compound\"] >= 0.05 else \n",
    "                      \"Negative\" if vader_scores[\"compound\"] <= -0.05 else \"Neutral\"\n",
    "}"
   ]
  },
  {
   "cell_type": "code",
   "execution_count": 9,
   "id": "59c6efca-4518-431f-8d38-04af248f6139",
   "metadata": {},
   "outputs": [
    {
     "name": "stdout",
     "output_type": "stream",
     "text": [
      "{'Positive': 0.419, 'Negative': 0.0, 'Neutral': 0.581, 'Compound': 0.698, 'Interpretation': 'Positive'}\n"
     ]
    }
   ],
   "source": [
    "print(results[\"VADER\"])"
   ]
  },
  {
   "cell_type": "code",
   "execution_count": 11,
   "id": "2602ec49-79dc-4b70-87bf-d66616914e2d",
   "metadata": {},
   "outputs": [],
   "source": [
    "# 2. TextBlob\n",
    "blob = TextBlob(sentence)\n",
    "textblob_polarity = blob.sentiment.polarity\n",
    "textblob_subjectivity = blob.sentiment.subjectivity\n",
    "results[\"TextBlob\"] = {\n",
    "    \"Polarity\": textblob_polarity,\n",
    "    \"Subjectivity\": textblob_subjectivity,\n",
    "    \"Interpretation\": \"Positive\" if textblob_polarity > 0 else \n",
    "                      \"Negative\" if textblob_polarity < 0 else \"Neutral\"\n",
    "}"
   ]
  },
  {
   "cell_type": "code",
   "execution_count": 13,
   "id": "284f0d72-91a5-46e8-b322-61e0994f6674",
   "metadata": {},
   "outputs": [
    {
     "name": "stdout",
     "output_type": "stream",
     "text": [
      "{'Polarity': 0.42499999999999993, 'Subjectivity': 0.5833333333333333, 'Interpretation': 'Positive'}\n"
     ]
    }
   ],
   "source": [
    "print(results[\"TextBlob\"])"
   ]
  },
  {
   "cell_type": "code",
   "execution_count": 15,
   "id": "a24a9cf2-08f9-4188-ab7c-f380c5d58b95",
   "metadata": {},
   "outputs": [
    {
     "name": "stderr",
     "output_type": "stream",
     "text": [
      "C:\\Users\\Vitali\\anaconda3\\Lib\\site-packages\\spacy\\util.py:910: UserWarning: [W095] Model 'en_core_web_sm' (3.8.0) was trained with spaCy v3.8.0 and may not be 100% compatible with the current version (3.7.2). If you see errors or degraded performance, download a newer compatible model or retrain your custom model with the current spaCy version. For more details and available updates, run: python -m spacy validate\n",
      "  warnings.warn(warn_msg)\n"
     ]
    }
   ],
   "source": [
    "# 3. spaCy (with spacytextblob)\n",
    "# Note: You need to install: !pip install spacytextblob\n",
    "try:\n",
    "    nlp = spacy.load(\"en_core_web_sm\")\n",
    "    nlp.add_pipe(\"spacytextblob\")\n",
    "    doc = nlp(sentence)\n",
    "    spacy_polarity = doc._.blob.polarity\n",
    "    spacy_subjectivity = doc._.blob.subjectivity\n",
    "    results[\"spaCy (spacytextblob)\"] = {\n",
    "        \"Polarity\": spacy_polarity,\n",
    "        \"Subjectivity\": spacy_subjectivity,\n",
    "        \"Interpretation\": \"Positive\" if spacy_polarity > 0 else \n",
    "                          \"Negative\" if spacy_polarity < 0 else \"Neutral\"\n",
    "    }\n",
    "except:\n",
    "    print(\"spaCy with spacytextblob not available. Install with: pip install spacytextblob\")"
   ]
  },
  {
   "cell_type": "code",
   "execution_count": 17,
   "id": "67c33a23-2e38-4a85-8703-21008a049f7c",
   "metadata": {},
   "outputs": [
    {
     "name": "stdout",
     "output_type": "stream",
     "text": [
      "{'Polarity': 0.42499999999999993, 'Subjectivity': 0.5833333333333333, 'Interpretation': 'Positive'}\n"
     ]
    }
   ],
   "source": [
    "print(results[\"spaCy (spacytextblob)\"])"
   ]
  },
  {
   "cell_type": "code",
   "execution_count": 19,
   "id": "319f946c-1d67-4801-afe8-0809d337fb28",
   "metadata": {},
   "outputs": [
    {
     "name": "stderr",
     "output_type": "stream",
     "text": [
      "Device set to use cpu\n"
     ]
    }
   ],
   "source": [
    "# 4. BERT (using Hugging Face transformers)\n",
    "try:\n",
    "    tokenizer = AutoTokenizer.from_pretrained(\"nlptown/bert-base-multilingual-uncased-sentiment\")\n",
    "    model = AutoModelForSequenceClassification.from_pretrained(\"nlptown/bert-base-multilingual-uncased-sentiment\")\n",
    "    classifier = pipeline(\"sentiment-analysis\", model=model, tokenizer=tokenizer)\n",
    "    bert_result = classifier(sentence)[0]\n",
    "    \n",
    "    # This specific model returns 1-5 stars, mapping to very negative to very positive\n",
    "    star_rating = int(bert_result['label'].split()[0])\n",
    "    sentiment_mapping = {1: \"Very Negative\", 2: \"Negative\", 3: \"Neutral\", 4: \"Positive\", 5: \"Very Positive\"}\n",
    "    \n",
    "    results[\"BERT\"] = {\n",
    "        \"Score\": bert_result['score'],\n",
    "        \"Star Rating\": star_rating,\n",
    "        \"Interpretation\": sentiment_mapping[star_rating]\n",
    "    }\n",
    "except:\n",
    "    print(\"BERT model not available. Install with: !pip install transformers torch\")"
   ]
  },
  {
   "cell_type": "code",
   "execution_count": 20,
   "id": "b644aff0-3f28-4e87-b7c0-56f544c2eaea",
   "metadata": {},
   "outputs": [
    {
     "name": "stdout",
     "output_type": "stream",
     "text": [
      "{'Score': 0.7099750638008118, 'Star Rating': 3, 'Interpretation': 'Neutral'}\n"
     ]
    }
   ],
   "source": [
    "print(results[\"BERT\"])"
   ]
  },
  {
   "cell_type": "code",
   "execution_count": 23,
   "id": "c06630b4-0ff9-45d7-add8-b19dff427c3f",
   "metadata": {},
   "outputs": [],
   "source": [
    "# 5. Flair (if available)\n",
    "try:\n",
    "    from flair.models import TextClassifier\n",
    "    from flair.data import Sentence\n",
    "    \n",
    "    flair_sentiment = TextClassifier.load('en-sentiment')\n",
    "    flair_sentence = Sentence(sentence)\n",
    "    flair_sentiment.predict(flair_sentence)\n",
    "    \n",
    "    label = flair_sentence.labels[0]\n",
    "    results[\"Flair\"] = {\n",
    "        \"Score\": label.score,\n",
    "        \"Label\": label.value,\n",
    "        \"Interpretation\": \"Positive\" if label.value == \"POSITIVE\" else \"Negative\"\n",
    "    }\n",
    "except:\n",
    "    print(\"Flair not available. Install with: !pip install flair\")"
   ]
  },
  {
   "cell_type": "code",
   "execution_count": 25,
   "id": "299fcbf0-14a9-4314-9be5-22c317d93f45",
   "metadata": {},
   "outputs": [
    {
     "name": "stdout",
     "output_type": "stream",
     "text": [
      "{'Score': 0.9997748732566833, 'Label': 'NEGATIVE', 'Interpretation': 'Negative'}\n"
     ]
    }
   ],
   "source": [
    "print(results[\"Flair\"])"
   ]
  },
  {
   "cell_type": "code",
   "execution_count": 39,
   "id": "42111639-74f7-452e-ab8e-9372cbb59fec",
   "metadata": {},
   "outputs": [],
   "source": [
    "# 6. RoBERTa (another transformer model with different architecture)\n",
    "try:\n",
    "    roberta_tokenizer = AutoTokenizer.from_pretrained(\"cardiffnlp/twitter-roberta-base-sentiment\")\n",
    "    roberta_model = AutoModelForSequenceClassification.from_pretrained(\"cardiffnlp/twitter-roberta-base-sentiment\")\n",
    "    roberta_classifier = pipeline(\"sentiment-analysis\", model=roberta_model, tokenizer=roberta_tokenizer)\n",
    "    roberta_result = roberta_classifier(sentence)[0]\n",
    "    \n",
    "    # Map the RoBERTa labels to human-readable format\n",
    "    # For cardiffnlp/twitter-roberta-base-sentiment:\n",
    "    # LABEL_0 = Negative\n",
    "    # LABEL_1 = Neutral\n",
    "    # LABEL_2 = Positive\n",
    "    label_mapping = {\n",
    "        \"LABEL_0\": \"Negative\",\n",
    "        \"LABEL_1\": \"Neutral\", \n",
    "        \"LABEL_2\": \"Positive\"\n",
    "    }\n",
    "    \n",
    "    human_readable_label = label_mapping.get(roberta_result['label'], \"Unknown\")\n",
    "    \n",
    "    results[\"RoBERTa\"] = {\n",
    "        \"Score\": roberta_result['score'],\n",
    "        \"Raw Label\": roberta_result['label'],\n",
    "        \"Interpretation\": human_readable_label\n",
    "    }\n",
    "except:\n",
    "    print(\"RoBERTa model not available.\")"
   ]
  },
  {
   "cell_type": "code",
   "execution_count": 41,
   "id": "ed4609d6-6e1b-40c4-877c-726e8ad80ba5",
   "metadata": {},
   "outputs": [
    {
     "name": "stdout",
     "output_type": "stream",
     "text": [
      "{'Score': 0.7613462805747986, 'Raw Label': 'LABEL_2', 'Interpretation': 'Positive'}\n"
     ]
    }
   ],
   "source": [
    "print(results[\"RoBERTa\"])"
   ]
  },
  {
   "cell_type": "code",
   "execution_count": 43,
   "id": "1249dd70-b5c9-458c-bd7d-c71fc5a25bd9",
   "metadata": {},
   "outputs": [
    {
     "name": "stdout",
     "output_type": "stream",
     "text": [
      "\n",
      "Results Comparison:\n",
      "================================================================================\n",
      "\n",
      "VADER:\n",
      "  Positive: 0.419\n",
      "  Negative: 0.0\n",
      "  Neutral: 0.581\n",
      "  Compound: 0.698\n",
      "  Interpretation: Positive\n",
      "\n",
      "TextBlob:\n",
      "  Polarity: 0.42499999999999993\n",
      "  Subjectivity: 0.5833333333333333\n",
      "  Interpretation: Positive\n",
      "\n",
      "spaCy (spacytextblob):\n",
      "  Polarity: 0.42499999999999993\n",
      "  Subjectivity: 0.5833333333333333\n",
      "  Interpretation: Positive\n",
      "\n",
      "BERT:\n",
      "  Score: 0.7099750638008118\n",
      "  Star Rating: 3\n",
      "  Interpretation: Neutral\n",
      "\n",
      "Flair:\n",
      "  Score: 0.9997748732566833\n",
      "  Label: NEGATIVE\n",
      "  Interpretation: Negative\n",
      "\n",
      "RoBERTa:\n",
      "  Score: 0.7613462805747986\n",
      "  Raw Label: LABEL_2\n",
      "  Interpretation: Positive\n",
      "\n",
      "Text-based Sentiment Visualization:\n",
      "================================================================================\n",
      "Sentiment Analysis Comparison for: \"The movie was not bad, but I've seen better ones.\"\n",
      "--------------------------------------------------------------------------------\n",
      "VADER                 |             + (Positive)\n",
      "TextBlob              |             + (Positive)\n",
      "spaCy (spacytextblob) |             + (Positive)\n",
      "BERT                  |         o (Neutral)\n",
      "Flair                 |     - (Negative)\n",
      "RoBERTa               |             + (Positive)\n",
      "\n",
      "Results Summary:\n",
      "Sentence: 'The movie was not bad, but I've seen better ones.'\n",
      "Number of analyzers compared: 6\n",
      "Analyzers that found positive sentiment: 4\n",
      "Analyzers that found negative sentiment: 1\n",
      "Analyzers that found neutral sentiment: 1\n",
      "\n",
      "Visualization saved as 'sentiment_comparison.png'\n"
     ]
    },
    {
     "data": {
      "image/png": "[encoded data removed]",
      "text/plain": [
       "<Figure size 1200x600 with 1 Axes>"
      ]
     },
     "metadata": {},
     "output_type": "display_data"
    }
   ],
   "source": [
    "# Display results\n",
    "print(\"\\nResults Comparison:\")\n",
    "print(\"=\" * 80)\n",
    "for analyzer, result in results.items():\n",
    "    print(f\"\\n{analyzer}:\")\n",
    "    for key, value in result.items():\n",
    "        print(f\"  {key}: {value}\")\n",
    "\n",
    "# Create a text-based visualization instead of matplotlib\n",
    "print(\"\\nText-based Sentiment Visualization:\")\n",
    "print(\"=\" * 80)\n",
    "print(f\"Sentiment Analysis Comparison for: \\\"{sentence}\\\"\")\n",
    "print(\"-\" * 80)\n",
    "\n",
    "# Get the analyzers and their interpretations\n",
    "analyzers = list(results.keys())\n",
    "interpretations = [results[analyzer].get(\"Interpretation\", \"Unknown\") for analyzer in analyzers]\n",
    "\n",
    "# Map interpretations to numeric values and symbols\n",
    "sentiment_map = {\n",
    "    \"Very Negative\": -2, \"Negative\": -1, \"Neutral\": 0, \n",
    "    \"Positive\": 1, \"Very Positive\": 2\n",
    "}\n",
    "\n",
    "# Convert to numeric values (or default to 0 if not found)\n",
    "numeric_sentiments = []\n",
    "for interp in interpretations:\n",
    "    # Handle different naming conventions\n",
    "    if interp in sentiment_map:\n",
    "        numeric_sentiments.append(sentiment_map[interp])\n",
    "    elif \"negative\" in interp.lower() and \"very\" in interp.lower():\n",
    "        numeric_sentiments.append(-2)\n",
    "    elif \"negative\" in interp.lower():\n",
    "        numeric_sentiments.append(-1)\n",
    "    elif \"positive\" in interp.lower() and \"very\" in interp.lower():\n",
    "        numeric_sentiments.append(2)\n",
    "    elif \"positive\" in interp.lower():\n",
    "        numeric_sentiments.append(1)\n",
    "    elif \"neutral\" in interp.lower():\n",
    "        numeric_sentiments.append(0)\n",
    "    else:\n",
    "        numeric_sentiments.append(0)\n",
    "\n",
    "# Define symbols for visualization\n",
    "symbols = {-2: \"-- (Very Negative)\", -1: \"- (Negative)\", 0: \"o (Neutral)\", \n",
    "           1: \"+ (Positive)\", 2: \"++ (Very Positive)\"}\n",
    "\n",
    "# Display the text-based visualization\n",
    "max_analyzer_length = max(len(analyzer) for analyzer in analyzers)\n",
    "for analyzer, score in zip(analyzers, numeric_sentiments):\n",
    "    # Create a visual representation with padding\n",
    "    scale = \"    \" * (score + 2) + symbols[score]\n",
    "    print(f\"{analyzer:{max_analyzer_length}} | {scale}\")\n",
    "\n",
    "print(\"\\nResults Summary:\")\n",
    "print(f\"Sentence: '{sentence}'\")\n",
    "print(f\"Number of analyzers compared: {len(results)}\")\n",
    "print(f\"Analyzers that found positive sentiment: {sum(1 for s in numeric_sentiments if s > 0)}\")\n",
    "print(f\"Analyzers that found negative sentiment: {sum(1 for s in numeric_sentiments if s < 0)}\")\n",
    "print(f\"Analyzers that found neutral sentiment: {sum(1 for s in numeric_sentiments if s == 0)}\")\n",
    "\n",
    "# Optional: Try to create visualization using matplotlib but handle errors gracefully\n",
    "try:\n",
    "    import matplotlib.pyplot as plt\n",
    "    \n",
    "    plt.figure(figsize=(12, 6))\n",
    "    colors = ['red' if x < 0 else 'green' if x > 0 else 'gray' for x in numeric_sentiments]\n",
    "    plt.bar(analyzers, numeric_sentiments, color=colors)\n",
    "    plt.axhline(y=0, color='black', linestyle='-', alpha=0.3)\n",
    "    plt.ylim(-2.5, 2.5)\n",
    "    plt.xticks(rotation=45, ha='right')\n",
    "    plt.title(f'Sentiment Analysis Comparison for: \"{sentence}\"')\n",
    "    plt.ylabel('Sentiment Score (-2=Very Negative, 2=Very Positive)')\n",
    "    plt.tight_layout()\n",
    "    plt.savefig('sentiment_comparison.png')\n",
    "    print(\"\\nVisualization saved as 'sentiment_comparison.png'\")\n",
    "except ImportError as e:\n",
    "    print(f\"\\nMatplotlib visualization skipped due to import error: {e}\")\n",
    "    print(\"Using text-based visualization instead.\")\n",
    "except Exception as e:\n",
    "    print(f\"\\nVisualization error: {e}\")\n",
    "    print(\"Using text-based visualization instead.\")"
   ]
  },
  {
   "cell_type": "code",
   "execution_count": null,
   "id": "d04c425c-58b7-4521-9471-328293e41cef",
   "metadata": {},
   "outputs": [],
   "source": []
  }
 ],
 "metadata": {
  "kernelspec": {
   "display_name": "Python 3 (ipykernel)",
   "language": "python",
   "name": "python3"
  },
  "language_info": {
   "codemirror_mode": {
    "name": "ipython",
    "version": 3
   },
   "file_extension": ".py",
   "mimetype": "text/x-python",
   "name": "python",
   "nbconvert_exporter": "python",
   "pygments_lexer": "ipython3",
   "version": "3.12.4"
  }
 },
 "nbformat": 4,
 "nbformat_minor": 5
}
