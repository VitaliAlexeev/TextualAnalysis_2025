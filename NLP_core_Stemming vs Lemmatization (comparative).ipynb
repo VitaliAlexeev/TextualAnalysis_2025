{
 "cells": [
  {
   "cell_type": "code",
   "execution_count": 1,
   "metadata": {
    "colab": {
     "base_uri": "https://localhost:8080/"
    },
    "executionInfo": {
     "elapsed": 466,
     "status": "ok",
     "timestamp": 1704765494814,
     "user": {
      "displayName": "Vitali Alexeev",
      "userId": "09132016495193033124"
     },
     "user_tz": -660
    },
    "id": "jK9RTaSH7PSz",
    "outputId": "01dcb64e-d267-40d6-dcce-765b23921cb1"
   },
   "outputs": [
    {
     "name": "stderr",
     "output_type": "stream",
     "text": [
      "[nltk_data] Downloading package stopwords to\n",
      "[nltk_data]     C:\\Users\\Vitali\\AppData\\Roaming\\nltk_data...\n",
      "[nltk_data]   Package stopwords is already up-to-date!\n",
      "[nltk_data] Downloading package punkt to\n",
      "[nltk_data]     C:\\Users\\Vitali\\AppData\\Roaming\\nltk_data...\n",
      "[nltk_data]   Package punkt is already up-to-date!\n",
      "[nltk_data] Downloading package wordnet to\n",
      "[nltk_data]     C:\\Users\\Vitali\\AppData\\Roaming\\nltk_data...\n",
      "[nltk_data]   Package wordnet is already up-to-date!\n"
     ]
    }
   ],
   "source": [
    "import nltk\n",
    "nltk.download('stopwords')\n",
    "nltk.download('punkt')\n",
    "nltk.download('wordnet')\n",
    "\n",
    "from nltk.corpus import stopwords\n",
    "from nltk.tokenize import word_tokenize\n",
    "from nltk.stem import PorterStemmer, WordNetLemmatizer"
   ]
  },
  {
   "cell_type": "code",
   "execution_count": 3,
   "metadata": {
    "colab": {
     "base_uri": "https://localhost:8080/"
    },
    "executionInfo": {
     "elapsed": 466,
     "status": "ok",
     "timestamp": 1704765494814,
     "user": {
      "displayName": "Vitali Alexeev",
      "userId": "09132016495193033124"
     },
     "user_tz": -660
    },
    "id": "jK9RTaSH7PSz",
    "outputId": "01dcb64e-d267-40d6-dcce-765b23921cb1"
   },
   "outputs": [],
   "source": [
    "# Define the paragraph\n",
    "# paragraph = \"\"\"Caring for future generations, I have three visions for India. In 3000 years of our history, people from all over the world have come and invaded us, captured our lands, conquered our minds. From Alexander onwards, the Greeks, the Turks, the Moguls, the Portuguese, the British, the French, the Dutch, all of them came and looted us, took over what was ours. Yet we have not done this to any other nation. We have not conquered anyone. We have not grabbed their land, their culture, their history and tried to enforce our way of life on them.\"\"\"\n",
    "\n",
    "# paragraph = \"\"\"The boys are playing in the playground. One of them seemed happier than the others. He was jumping joyously. The playfulness of these children is heartwarming. Despite the cloudy skies, the children continued their play without any interruption. One little boy plays differently, showing his unique playing style. The children's laughter echoed around the park. This place is always full of playful youngsters and caring parents.\"\"\"\n",
    "# Words like \"playing\", \"plays\", and \"playfulness\" will show how stemming might reduce all these to a base form like \"play\", whereas lemmatization will correctly identify \"playfulness\" as a noun and \"playing\" as a verb form.\n",
    "# The word \"children\" is the plural of \"child\", which stemming may not correctly reduce to \"child\", but lemmatization will.\n",
    "# Irregular verbs like \"seemed\" and \"continued\" will be handled differently by stemming and lemmatization. Stemming might truncate them incorrectly, while lemmatization will find the correct root verb (\"seem\", \"continue\").\n",
    "\n",
    "paragraph = \"\"\"The managers are discussing the booking of the venues for the annual conference. Despite the ongoing discussions, the final booking has not yet been made. One manager suggested booking the hall early to avoid last-minute hassles. Meanwhile, a family at the hotel was excited about their holiday booking. The children's joyous laughter filled the air as they discussed the activities they had planned. The family's booking included various adventures and sightseeing tours. In contrast, the simplicity of the monastery's lifestyle, with its emphasis on study and meditation, was a stark difference from the bustling city life. The words of wisdom from the old monk brought serenity to the hearts of the visitors.\"\"\"\n",
    "# The word \"booking\" is used in different contexts, showing how lemmatization can interpret it correctly based on usage, whereas stemming may not distinguish between its use as a noun and a verb.\n",
    "# The plural forms of words like \"managers\" and \"discussions\" will showcase how lemmatization correctly identifies the singular form, while stemming may not.\n",
    "# The verb forms like \"suggested\", \"included\", and \"brought\" will demonstrate how lemmatization accurately finds the root verb, whereas stemming might truncate them inappropriately."
   ]
  },
  {
   "cell_type": "code",
   "execution_count": 5,
   "metadata": {
    "colab": {
     "base_uri": "https://localhost:8080/"
    },
    "executionInfo": {
     "elapsed": 466,
     "status": "ok",
     "timestamp": 1704765494814,
     "user": {
      "displayName": "Vitali Alexeev",
      "userId": "09132016495193033124"
     },
     "user_tz": -660
    },
    "id": "jK9RTaSH7PSz",
    "outputId": "01dcb64e-d267-40d6-dcce-765b23921cb1"
   },
   "outputs": [],
   "source": [
    "# Tokenize the paragraph into sentences\n",
    "sentences = nltk.sent_tokenize(paragraph)\n",
    "\n",
    "# Initialize the stemmer and the lemmatizer\n",
    "stemmer = PorterStemmer()\n",
    "lemmatizer = WordNetLemmatizer()"
   ]
  },
  {
   "cell_type": "code",
   "execution_count": 7,
   "metadata": {
    "colab": {
     "base_uri": "https://localhost:8080/"
    },
    "executionInfo": {
     "elapsed": 466,
     "status": "ok",
     "timestamp": 1704765494814,
     "user": {
      "displayName": "Vitali Alexeev",
      "userId": "09132016495193033124"
     },
     "user_tz": -660
    },
    "id": "jK9RTaSH7PSz",
    "outputId": "01dcb64e-d267-40d6-dcce-765b23921cb1"
   },
   "outputs": [],
   "source": [
    "# Function for removing stopwords\n",
    "def remove_stopwords(words):\n",
    "    return [word for word in words if word not in set(stopwords.words('english'))]"
   ]
  },
  {
   "cell_type": "code",
   "execution_count": 9,
   "metadata": {
    "colab": {
     "base_uri": "https://localhost:8080/"
    },
    "executionInfo": {
     "elapsed": 466,
     "status": "ok",
     "timestamp": 1704765494814,
     "user": {
      "displayName": "Vitali Alexeev",
      "userId": "09132016495193033124"
     },
     "user_tz": -660
    },
    "id": "jK9RTaSH7PSz",
    "outputId": "01dcb64e-d267-40d6-dcce-765b23921cb1"
   },
   "outputs": [
    {
     "name": "stdout",
     "output_type": "stream",
     "text": [
      "Original   : The managers are discussing the booking of the venues for the annual conference.\n",
      "Stemmed    : the manag discuss book venu annual confer .\n",
      "Lemmatized : The manager discussing booking venue annual conference .\n",
      "\n",
      "\n",
      "Original   : Despite the ongoing discussions, the final booking has not yet been made.\n",
      "Stemmed    : despit ongo discuss , final book yet made .\n",
      "Lemmatized : Despite ongoing discussion , final booking yet made .\n",
      "\n",
      "\n",
      "Original   : One manager suggested booking the hall early to avoid last-minute hassles.\n",
      "Stemmed    : one manag suggest book hall earli avoid last-minut hassl .\n",
      "Lemmatized : One manager suggested booking hall early avoid last-minute hassle .\n",
      "\n",
      "\n",
      "Original   : Meanwhile, a family at the hotel was excited about their holiday booking.\n",
      "Stemmed    : meanwhil , famili hotel excit holiday book .\n",
      "Lemmatized : Meanwhile , family hotel excited holiday booking .\n",
      "\n",
      "\n",
      "Original   : The children's joyous laughter filled the air as they discussed the activities they had planned.\n",
      "Stemmed    : the children 's joyou laughter fill air discuss activ plan .\n",
      "Lemmatized : The child 's joyous laughter filled air discussed activity planned .\n",
      "\n",
      "\n",
      "Original   : The family's booking included various adventures and sightseeing tours.\n",
      "Stemmed    : the famili 's book includ variou adventur sightse tour .\n",
      "Lemmatized : The family 's booking included various adventure sightseeing tour .\n",
      "\n",
      "\n",
      "Original   : In contrast, the simplicity of the monastery's lifestyle, with its emphasis on study and meditation, was a stark difference from the bustling city life.\n",
      "Stemmed    : in contrast , simplic monasteri 's lifestyl , emphasi studi medit , stark differ bustl citi life .\n",
      "Lemmatized : In contrast , simplicity monastery 's lifestyle , emphasis study meditation , stark difference bustling city life .\n",
      "\n",
      "\n",
      "Original   : The words of wisdom from the old monk brought serenity to the hearts of the visitors.\n",
      "Stemmed    : the word wisdom old monk brought seren heart visitor .\n",
      "Lemmatized : The word wisdom old monk brought serenity heart visitor .\n",
      "\n",
      "\n"
     ]
    }
   ],
   "source": [
    "# Process each sentence\n",
    "for sentence in sentences:\n",
    "    words = word_tokenize(sentence)\n",
    "\n",
    "    # Stemming\n",
    "    stemmed_words = [stemmer.stem(word) for word in remove_stopwords(words)]\n",
    "    stemmed_sentence = ' '.join(stemmed_words)\n",
    "\n",
    "    # Lemmatization\n",
    "    lemmatized_words = [lemmatizer.lemmatize(word) for word in remove_stopwords(words)]\n",
    "    lemmatized_sentence = ' '.join(lemmatized_words)\n",
    "\n",
    "    # Printing sentences side by side\n",
    "    print(f\"Original   : {sentence}\")\n",
    "    print(f\"Stemmed    : {stemmed_sentence}\")\n",
    "    print(f\"Lemmatized : {lemmatized_sentence}\")\n",
    "    print(\"\\n\")"
   ]
  },
  {
   "cell_type": "code",
   "execution_count": null,
   "metadata": {},
   "outputs": [],
   "source": []
  }
 ],
 "metadata": {
  "colab": {
   "authorship_tag": "ABX9TyN03YCqDLbNp5a0qjyYJF3Q",
   "provenance": []
  },
  "kernelspec": {
   "display_name": "Python 3 (ipykernel)",
   "language": "python",
   "name": "python3"
  },
  "language_info": {
   "codemirror_mode": {
    "name": "ipython",
    "version": 3
   },
   "file_extension": ".py",
   "mimetype": "text/x-python",
   "name": "python",
   "nbconvert_exporter": "python",
   "pygments_lexer": "ipython3",
   "version": "3.12.4"
  }
 },
 "nbformat": 4,
 "nbformat_minor": 4
}
