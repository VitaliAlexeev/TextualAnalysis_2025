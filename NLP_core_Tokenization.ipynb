{
 "cells": [
  {
   "cell_type": "markdown",
   "id": "3e95b838-5962-45aa-b99d-7015fd6d401e",
   "metadata": {},
   "source": [
    "# Tokenization in Python "
   ]
  },
  {
   "cell_type": "markdown",
   "id": "9e08f961-c9dd-4949-a37a-632fc4160043",
   "metadata": {},
   "source": [
    "## Brute force method"
   ]
  },
  {
   "cell_type": "code",
   "execution_count": 1,
   "id": "40f4b1bf-f4f2-4307-bb7c-62104ac44c20",
   "metadata": {},
   "outputs": [
    {
     "name": "stdout",
     "output_type": "stream",
     "text": [
      "['Dr.', 'Smith', 'works', 'at', 'UTS.', 'He', 'teaches', 'AI.', \"He's\", 'moving', 'to', 'L.A.!', 'For', 'his', 'whereabouts,', 'visit', 'his', 'homepage', 'at', 'http://www.example.com/.']\n"
     ]
    }
   ],
   "source": [
    "text = \"Dr. Smith works at UTS. He teaches AI. He's moving to L.A.! For his whereabouts, visit his homepage at http://www.example.com/.\"\n",
    "print(text.split())"
   ]
  },
  {
   "cell_type": "markdown",
   "id": "5c606841-a634-417a-b2eb-5e5108eb1e78",
   "metadata": {},
   "source": [
    "## Using NLTK"
   ]
  },
  {
   "cell_type": "code",
   "execution_count": 4,
   "id": "b7573497-1939-4bee-ae82-3922799167b7",
   "metadata": {},
   "outputs": [],
   "source": [
    "import nltk\n",
    "from nltk.tokenize import word_tokenize, sent_tokenize"
   ]
  },
  {
   "cell_type": "code",
   "execution_count": 6,
   "id": "a64b7301-2682-4df1-9532-1d966d70317a",
   "metadata": {},
   "outputs": [
    {
     "name": "stderr",
     "output_type": "stream",
     "text": [
      "[nltk_data] Downloading package punkt_tab to\n",
      "[nltk_data]     C:\\Users\\Vitali\\AppData\\Roaming\\nltk_data...\n",
      "[nltk_data]   Package punkt_tab is already up-to-date!\n"
     ]
    },
    {
     "data": {
      "text/plain": [
       "True"
      ]
     },
     "execution_count": 6,
     "metadata": {},
     "output_type": "execute_result"
    }
   ],
   "source": [
    "nltk.download('punkt_tab')"
   ]
  },
  {
   "cell_type": "code",
   "execution_count": 8,
   "id": "a52534c8-4e3e-4e49-b93c-5cded8ee3822",
   "metadata": {},
   "outputs": [
    {
     "name": "stdout",
     "output_type": "stream",
     "text": [
      "['Dr.', 'Smith', 'works', 'at', 'UTS', '.', 'He', 'teaches', 'AI', '.', 'He', \"'s\", 'moving', 'to', 'L.A.', '!', 'For', 'his', 'whereabouts', ',', 'visit', 'his', 'homepage', 'at', 'http', ':', '//www.example.com/', '.']\n",
      "['Dr. Smith works at UTS.', 'He teaches AI.', \"He's moving to L.A.!\", 'For his whereabouts, visit his homepage at http://www.example.com/.']\n"
     ]
    }
   ],
   "source": [
    "text = \"Dr. Smith works at UTS. He teaches AI. He's moving to L.A.! For his whereabouts, visit his homepage at http://www.example.com/.\"\n",
    "\n",
    "# Word Tokenization\n",
    "word_tokens = word_tokenize(text)\n",
    "print(word_tokens)\n",
    "# ['Dr.', 'Smith', 'works', 'at', 'UTS.', 'He', 'teaches', 'AI', '.']\n",
    "\n",
    "# Sentence Tokenization\n",
    "sent_tokens = sent_tokenize(text)\n",
    "print(sent_tokens)\n",
    "# ['Dr. Smith works at UTS.', 'He teaches AI.']"
   ]
  },
  {
   "cell_type": "markdown",
   "id": "01c778ae-3b99-4624-9f5f-c17921d04133",
   "metadata": {},
   "source": [
    "## Using SpaCy"
   ]
  },
  {
   "cell_type": "code",
   "execution_count": null,
   "id": "09791860-f5c6-4156-aa19-e6c478f9a3de",
   "metadata": {},
   "outputs": [],
   "source": [
    "!python -m spacy download en_core_web_sm"
   ]
  },
  {
   "cell_type": "code",
   "execution_count": 11,
   "id": "a6829fdb-925f-41ba-8a3c-f64546dac970",
   "metadata": {},
   "outputs": [],
   "source": [
    "import spacy"
   ]
  },
  {
   "cell_type": "code",
   "execution_count": 13,
   "id": "fc39ff19-be07-4ff4-bc18-a67c13157ccb",
   "metadata": {},
   "outputs": [
    {
     "name": "stderr",
     "output_type": "stream",
     "text": [
      "C:\\Users\\Vitali\\anaconda3\\Lib\\site-packages\\spacy\\util.py:910: UserWarning: [W095] Model 'en_core_web_sm' (3.8.0) was trained with spaCy v3.8.0 and may not be 100% compatible with the current version (3.7.2). If you see errors or degraded performance, download a newer compatible model or retrain your custom model with the current spaCy version. For more details and available updates, run: python -m spacy validate\n",
      "  warnings.warn(warn_msg)\n"
     ]
    }
   ],
   "source": [
    "nlp = spacy.load(\"en_core_web_sm\")"
   ]
  },
  {
   "cell_type": "code",
   "execution_count": 14,
   "id": "beba715c-296c-4fee-be0c-4b0cb54c2035",
   "metadata": {},
   "outputs": [
    {
     "name": "stdout",
     "output_type": "stream",
     "text": [
      "['Dr.', 'Smith', 'works', 'at', 'UTS', '.', 'He', 'teaches', 'AI', '.', 'He', \"'s\", 'moving', 'to', 'L.A.', '!', 'For', 'his', 'whereabouts', ',', 'visit', 'his', 'homepage', 'at', 'http://www.example.com/.']\n",
      "['Dr. Smith works at UTS.', 'He teaches AI.', \"He's moving to L.A.!\", 'For his whereabouts, visit his homepage at http://www.example.com/.']\n"
     ]
    }
   ],
   "source": [
    "text = \"Dr. Smith works at UTS. He teaches AI. He's moving to L.A.! For his whereabouts, visit his homepage at http://www.example.com/.\"\n",
    "\n",
    "doc = nlp(text)\n",
    "\n",
    "# Word Tokenization\n",
    "word_tokens = [token.text for token in doc]\n",
    "print(word_tokens)\n",
    "# ['Dr.', 'Smith', 'works', 'at', 'UTS', '.', 'He', 'teaches', 'AI', '.']\n",
    "\n",
    "# Sentence Tokenization\n",
    "sent_tokens = [sent.text for sent in doc.sents]\n",
    "print(sent_tokens)\n",
    "# ['Dr. Smith works at UTS.', 'He teaches AI.']"
   ]
  },
  {
   "cell_type": "markdown",
   "id": "982ff2e8-f201-4be4-946c-f886813dd343",
   "metadata": {},
   "source": [
    "## Using Hugging Face’s BERT Tokenizer"
   ]
  },
  {
   "cell_type": "code",
   "execution_count": 17,
   "id": "146204a1-bbda-494d-ba7a-0113b9e8a6d6",
   "metadata": {},
   "outputs": [],
   "source": [
    "from transformers import AutoTokenizer"
   ]
  },
  {
   "cell_type": "code",
   "execution_count": 19,
   "id": "f61c1928-2e09-448a-893a-8d7039b56694",
   "metadata": {},
   "outputs": [],
   "source": [
    "# Load a pre-trained WordPiece tokenizer (BERT-based)\n",
    "tokenizer = AutoTokenizer.from_pretrained(\"bert-base-german-cased\")"
   ]
  },
  {
   "cell_type": "code",
   "execution_count": 21,
   "id": "871ec669-c47f-48df-9619-c4f275bdbeb4",
   "metadata": {},
   "outputs": [
    {
     "name": "stdout",
     "output_type": "stream",
     "text": [
      "['Rechtsschutz', '##versicherungs', '##gesellschaften']\n"
     ]
    }
   ],
   "source": [
    "# Tokenize the German compound word\n",
    "word = \"Rechtsschutzversicherungsgesellschaften\"\n",
    "tokens = tokenizer.tokenize(word)\n",
    "\n",
    "print(tokens)"
   ]
  }
 ],
 "metadata": {
  "kernelspec": {
   "display_name": "Python 3 (ipykernel)",
   "language": "python",
   "name": "python3"
  },
  "language_info": {
   "codemirror_mode": {
    "name": "ipython",
    "version": 3
   },
   "file_extension": ".py",
   "mimetype": "text/x-python",
   "name": "python",
   "nbconvert_exporter": "python",
   "pygments_lexer": "ipython3",
   "version": "3.12.4"
  }
 },
 "nbformat": 4,
 "nbformat_minor": 5
}
