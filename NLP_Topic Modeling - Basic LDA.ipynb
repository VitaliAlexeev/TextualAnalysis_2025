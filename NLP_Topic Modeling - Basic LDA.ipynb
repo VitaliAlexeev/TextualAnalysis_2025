{
 "cells": [
  {
   "cell_type": "markdown",
   "id": "8a07adb5-73e2-4d95-8487-e8cbd53837b0",
   "metadata": {},
   "source": [
    "# Simple LDA\n",
    "\n",
    "A minimum working example to showcase topic modeling concepts."
   ]
  },
  {
   "cell_type": "code",
   "execution_count": 11,
   "id": "87019c65-4cb2-4f3b-aea9-192e5d58e76f",
   "metadata": {},
   "outputs": [],
   "source": [
    "#!pip install pyLDAvis"
   ]
  },
  {
   "cell_type": "code",
   "execution_count": 13,
   "id": "8a0ef5e5-3462-4cdf-b57c-c52a9f1d6123",
   "metadata": {},
   "outputs": [],
   "source": [
    "from gensim.corpora.dictionary import Dictionary\n",
    "from gensim.models import LdaModel\n",
    "\n",
    "# (optional) some predefined samples for testing\n",
    "from gensim.test.utils import common_texts\n",
    "from gensim.test.utils import common_dictionary, common_corpus\n",
    "\n",
    "# Plotting tools\n",
    "import pyLDAvis\n",
    "import pyLDAvis.gensim  # don't skip this\n",
    "import matplotlib.pyplot as plt\n",
    "\n",
    "from pprint import pprint  # data pretty printer - provides a capability to “pretty-print” arbitrary Python data structures"
   ]
  },
  {
   "cell_type": "code",
   "execution_count": 15,
   "id": "7b9aafda-f7e9-499a-a2f2-ef8f339acc67",
   "metadata": {},
   "outputs": [],
   "source": [
    "# Create a corpus from a list of texts\n",
    "\n",
    "# A. Load and define your text\n",
    "mytext=[['human', 'interface', 'computer'],\n",
    "        ['survey', 'user', 'computer', 'system', 'response', 'time'],\n",
    "        ['eps', 'user', 'interface', 'system'],\n",
    "        ['system', 'human', 'system', 'eps'],\n",
    "        ['user', 'response', 'time'],\n",
    "        ['trees'],\n",
    "        ['graph', 'trees'],\n",
    "        ['graph', 'minors', 'trees'],\n",
    "        ['graph', 'minors', 'survey']]\n",
    "\n",
    "# B. Create Dictionary\n",
    "dictionary = Dictionary(mytext)\n",
    "\n",
    "# C. Term Document Frequency\n",
    "corpus = [dictionary.doc2bow(text) for text in mytext]"
   ]
  },
  {
   "cell_type": "code",
   "execution_count": 18,
   "id": "15c1b867-0184-4fcb-8919-6f4bd9248ab8",
   "metadata": {},
   "outputs": [],
   "source": [
    "# (for debugging) using predefined corpus\n",
    "\n",
    "#mytext=common_texts\n",
    "#dictionary=common_dictionary\n",
    "#corpus=common_corpus"
   ]
  },
  {
   "cell_type": "code",
   "execution_count": 20,
   "id": "1f78c8a4-ea25-4f71-a86a-88f0cd131b9e",
   "metadata": {},
   "outputs": [
    {
     "data": {
      "text/plain": [
       "[[('computer', 1), ('human', 1), ('interface', 1)]]"
      ]
     },
     "execution_count": 20,
     "metadata": {},
     "output_type": "execute_result"
    }
   ],
   "source": [
    "# Human readable format of corpus (term-frequency)\n",
    "[[(dictionary[id], freq) for id, freq in cp] for cp in corpus[:1]]"
   ]
  },
  {
   "cell_type": "code",
   "execution_count": 22,
   "id": "ccd42a88-ecc7-4936-935c-29fcef094612",
   "metadata": {},
   "outputs": [],
   "source": [
    "# Train the model on the corpus.\n",
    "lda = LdaModel(corpus=corpus, id2word=dictionary, num_topics=5, passes=100)"
   ]
  },
  {
   "cell_type": "code",
   "execution_count": 24,
   "id": "ae9d167e-92da-4454-9258-c0d2931d7963",
   "metadata": {},
   "outputs": [
    {
     "name": "stdout",
     "output_type": "stream",
     "text": [
      "[(0,\n",
      "  '0.223*\"human\" + 0.222*\"interface\" + 0.222*\"computer\" + 0.037*\"graph\" + '\n",
      "  '0.037*\"minors\" + 0.037*\"system\" + 0.037*\"trees\" + 0.037*\"eps\" + '\n",
      "  '0.037*\"survey\" + 0.037*\"user\"'),\n",
      " (1,\n",
      "  '0.128*\"minors\" + 0.128*\"eps\" + 0.128*\"survey\" + 0.128*\"graph\" + '\n",
      "  '0.128*\"system\" + 0.128*\"user\" + 0.128*\"interface\" + 0.021*\"trees\" + '\n",
      "  '0.021*\"human\" + 0.021*\"computer\"'),\n",
      " (2,\n",
      "  '0.258*\"trees\" + 0.178*\"system\" + 0.178*\"graph\" + 0.097*\"eps\" + '\n",
      "  '0.097*\"minors\" + 0.097*\"human\" + 0.016*\"survey\" + 0.016*\"user\" + '\n",
      "  '0.016*\"interface\" + 0.016*\"computer\"'),\n",
      " (3,\n",
      "  '0.193*\"user\" + 0.193*\"time\" + 0.193*\"response\" + 0.105*\"survey\" + '\n",
      "  '0.105*\"system\" + 0.105*\"computer\" + 0.018*\"graph\" + 0.018*\"minors\" + '\n",
      "  '0.018*\"trees\" + 0.018*\"eps\"'),\n",
      " (4,\n",
      "  '0.083*\"graph\" + 0.083*\"minors\" + 0.083*\"trees\" + 0.083*\"system\" + '\n",
      "  '0.083*\"eps\" + 0.083*\"survey\" + 0.083*\"human\" + 0.083*\"user\" + '\n",
      "  '0.083*\"interface\" + 0.083*\"computer\"')]\n"
     ]
    }
   ],
   "source": [
    "# Visualize keywords\n",
    "pprint(lda.print_topics())"
   ]
  },
  {
   "cell_type": "code",
   "execution_count": null,
   "id": "91fd5439-9dbf-46d8-a7d1-b009e475bda3",
   "metadata": {},
   "outputs": [
    {
     "name": "stdout",
     "output_type": "stream",
     "text": [
      "Serving to http://127.0.0.1:8889/    [Ctrl-C to exit]\n"
     ]
    },
    {
     "name": "stderr",
     "output_type": "stream",
     "text": [
      "127.0.0.1 - - [19/Mar/2025 05:41:58] \"GET / HTTP/1.1\" 200 -\n",
      "127.0.0.1 - - [19/Mar/2025 05:41:58] code 404, message Not Found\n",
      "127.0.0.1 - - [19/Mar/2025 05:41:58] \"GET /favicon.ico HTTP/1.1\" 404 -\n"
     ]
    }
   ],
   "source": [
    "# Visualize the topics\n",
    "pyLDAvis.enable_notebook()\n",
    "vis = pyLDAvis.gensim.prepare(lda, corpus, dictionary)\n",
    "pyLDAvis.show(vis, local=False) # or you can simply run 'vis' for in-notebook view"
   ]
  },
  {
   "cell_type": "code",
   "execution_count": null,
   "id": "eecca724-02f6-4fd1-a583-b014c61ddf27",
   "metadata": {},
   "outputs": [],
   "source": [
    "# Save to an HTML file\n",
    "pyLDAvis.save_html(vis, 'lda_topic_visualization.html')"
   ]
  }
 ],
 "metadata": {
  "kernelspec": {
   "display_name": "Python 3 (ipykernel)",
   "language": "python",
   "name": "python3"
  },
  "language_info": {
   "codemirror_mode": {
    "name": "ipython",
    "version": 3
   },
   "file_extension": ".py",
   "mimetype": "text/x-python",
   "name": "python",
   "nbconvert_exporter": "python",
   "pygments_lexer": "ipython3",
   "version": "3.12.4"
  }
 },
 "nbformat": 4,
 "nbformat_minor": 5
}
