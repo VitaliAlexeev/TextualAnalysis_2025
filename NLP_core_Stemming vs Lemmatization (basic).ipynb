{
 "cells": [
  {
   "cell_type": "markdown",
   "id": "74bd0109-14a9-4556-818f-69d2c6156477",
   "metadata": {},
   "source": [
    "# Stemming"
   ]
  },
  {
   "cell_type": "code",
   "execution_count": 1,
   "id": "dfd56dc5-37f9-488a-8e0b-c75a7af5b363",
   "metadata": {},
   "outputs": [
    {
     "name": "stdout",
     "output_type": "stream",
     "text": [
      "['run', 'happili', 'studi', 'organ']\n"
     ]
    }
   ],
   "source": [
    "from nltk.stem import PorterStemmer\n",
    "\n",
    "stemmer = PorterStemmer()\n",
    "\n",
    "words = [\"running\", \"happily\", \"studies\", \"organization\"]\n",
    "stemmed_words = [stemmer.stem(word) for word in words]\n",
    "\n",
    "print(stemmed_words)\n",
    "# Output: ['run', 'happili', 'studi', 'organ']"
   ]
  },
  {
   "cell_type": "markdown",
   "id": "a47395c6-d11e-43b3-b85a-f7ff6a6abef8",
   "metadata": {},
   "source": [
    "# Lemmatization"
   ]
  },
  {
   "cell_type": "code",
   "execution_count": 3,
   "id": "2c9d98cf-cfd4-45f0-924f-fbb621b95c76",
   "metadata": {},
   "outputs": [
    {
     "name": "stderr",
     "output_type": "stream",
     "text": [
      "[nltk_data] Downloading package wordnet to\n",
      "[nltk_data]     C:\\Users\\Vitali\\AppData\\Roaming\\nltk_data...\n",
      "[nltk_data]   Package wordnet is already up-to-date!\n"
     ]
    },
    {
     "name": "stdout",
     "output_type": "stream",
     "text": [
      "['run', 'happily', 'study', 'organization']\n"
     ]
    }
   ],
   "source": [
    "from nltk.stem import WordNetLemmatizer\n",
    "from nltk.corpus import wordnet\n",
    "import nltk\n",
    "\n",
    "nltk.download('wordnet')\n",
    "\n",
    "lemmatizer = WordNetLemmatizer()\n",
    "\n",
    "words = [\"running\", \"happily\", \"studies\", \"organization\"]\n",
    "lemmatized_words = [lemmatizer.lemmatize(word, pos='v') for word in words]  # 'v' for verb\n",
    "\n",
    "print(lemmatized_words)\n",
    "# Output: ['run', 'happy', 'study', 'organization']"
   ]
  },
  {
   "cell_type": "code",
   "execution_count": null,
   "id": "48e01a9b-00d6-41f9-8c71-0ce07a894fd9",
   "metadata": {},
   "outputs": [],
   "source": []
  }
 ],
 "metadata": {
  "kernelspec": {
   "display_name": "Python 3 (ipykernel)",
   "language": "python",
   "name": "python3"
  },
  "language_info": {
   "codemirror_mode": {
    "name": "ipython",
    "version": 3
   },
   "file_extension": ".py",
   "mimetype": "text/x-python",
   "name": "python",
   "nbconvert_exporter": "python",
   "pygments_lexer": "ipython3",
   "version": "3.12.4"
  }
 },
 "nbformat": 4,
 "nbformat_minor": 5
}
